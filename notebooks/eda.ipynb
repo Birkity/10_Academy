{
 "cells": [
  {
   "cell_type": "markdown",
   "metadata": {},
   "source": [
    "Solar Radiation Measurement Data EDA"
   ]
  },
  {
   "cell_type": "code",
   "execution_count": 13,
   "metadata": {},
   "outputs": [],
   "source": [
    "# Load the data \n",
    "import pandas as pd\n",
    "\n",
    "togo_data = pd.read_csv('../../data/data/togo-dapaong_qc.csv')\n",
    "benin_data = pd.read_csv('../../data/data/benin-malanville.csv')\n",
    "sierra_leone_data = pd.read_csv('../../data/data/sierraloeone-bumbuna.csv')"
   ]
  }
 ],
 "metadata": {
  "kernelspec": {
   "display_name": "myenv",
   "language": "python",
   "name": "python3"
  },
  "language_info": {
   "codemirror_mode": {
    "name": "ipython",
    "version": 3
   },
   "file_extension": ".py",
   "mimetype": "text/x-python",
   "name": "python",
   "nbconvert_exporter": "python",
   "pygments_lexer": "ipython3",
   "version": "3.11.2"
  }
 },
 "nbformat": 4,
 "nbformat_minor": 2
}

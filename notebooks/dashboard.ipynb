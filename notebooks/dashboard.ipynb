{
 "cells": [
  {
   "cell_type": "markdown",
   "metadata": {},
   "source": [
    "Streamlit Dashboard "
   ]
  },
  {
   "cell_type": "code",
   "execution_count": 4,
   "metadata": {},
   "outputs": [],
   "source": [
    "\n",
    "import streamlit as st\n",
    "import pandas as pd\n",
    "\n",
    "\n",
    "togo_data = pd.read_csv('../../data/data/togo_final_cleaned.csv')\n",
    "\n",
    "benin_data = pd.read_csv('../../data/data/benin_final_cleaned.csv')\n",
    "\n",
    "sierra_leone_data = pd.read_csv('../../data/data/sierra_leone_final_cleaned.csv')\n",
    "\n",
    "st.title('Solar Farm Data Dashboard')\n",
    "st.sidebar.title('Dashboard Controls')\n",
    "st.write(\"This dashboard visualizes data insights from solar farms in Togo, Benin, and Sierra Leone.\")\n"
   ]
  },
  {
   "cell_type": "code",
   "execution_count": 6,
   "metadata": {},
   "outputs": [],
   "source": [
    "# Sidebar for data selection\n",
    "country = st.sidebar.selectbox('Select Country', ['Togo', 'Benin', 'Sierra Leone'])\n",
    "\n",
    "if country == 'Togo':\n",
    "    data = togo_data\n",
    "elif country == 'Benin':\n",
    "    data = benin_data\n",
    "else:\n",
    "    data = sierra_leone_data\n",
    "\n",
    "date_range = st.sidebar.date_input('Select Date Range', [])\n",
    "parameter = st.sidebar.selectbox('Select Parameter', ['GHI', 'DNI', 'DHI', 'Tamb', 'WS'])\n",
    "\n",
    "# Filter data based on date range\n",
    "if date_range:\n",
    "    start_date, end_date = date_range\n",
    "    data = data[(data['Timestamp'] >= start_date) & (data['Timestamp'] <= end_date)]\n"
   ]
  },
  {
   "cell_type": "code",
   "execution_count": 7,
   "metadata": {},
   "outputs": [],
   "source": [
    "# Display selected parameter over time\n",
    "st.line_chart(data[['Timestamp', parameter]].set_index('Timestamp'))\n",
    "\n",
    "st.write(f\"Summary Statistics for {parameter}\")\n",
    "st.write(data[parameter].describe())\n"
   ]
  },
  {
   "cell_type": "code",
   "execution_count": 8,
   "metadata": {},
   "outputs": [
    {
     "data": {
      "text/plain": [
       "DeltaGenerator()"
      ]
     },
     "execution_count": 8,
     "metadata": {},
     "output_type": "execute_result"
    }
   ],
   "source": [
    "# Add a slider for selecting a range of wind speed\n",
    "ws_range = st.sidebar.slider('Select Wind Speed Range', float(data['WS'].min()), float(data['WS'].max()), (float(data['WS'].min()), float(data['WS'].max())))\n",
    "\n",
    "filtered_data = data[(data['WS'] >= ws_range[0]) & (data['WS'] <= ws_range[1])]\n",
    "\n",
    "st.write(f\"Data filtered by wind speed between {ws_range[0]} and {ws_range[1]}\")\n",
    "st.line_chart(filtered_data[['Timestamp', 'WS']].set_index('Timestamp'))\n"
   ]
  }
 ],
 "metadata": {
  "kernelspec": {
   "display_name": "myenv",
   "language": "python",
   "name": "python3"
  },
  "language_info": {
   "codemirror_mode": {
    "name": "ipython",
    "version": 3
   },
   "file_extension": ".py",
   "mimetype": "text/x-python",
   "name": "python",
   "nbconvert_exporter": "python",
   "pygments_lexer": "ipython3",
   "version": "3.11.2"
  }
 },
 "nbformat": 4,
 "nbformat_minor": 2
}
